{
 "cells": [
  {
   "cell_type": "code",
   "execution_count": 1,
   "metadata": {},
   "outputs": [
    {
     "name": "stdout",
     "output_type": "stream",
     "text": [
      "Requirement already satisfied: seaborn in c:\\users\\cor24836\\anaconda3\\lib\\site-packages (0.10.0)\n",
      "Requirement already satisfied: numpy>=1.13.3 in c:\\users\\cor24836\\anaconda3\\lib\\site-packages (from seaborn) (1.18.1)\n",
      "Requirement already satisfied: matplotlib>=2.1.2 in c:\\users\\cor24836\\anaconda3\\lib\\site-packages (from seaborn) (3.1.3)\n",
      "Requirement already satisfied: scipy>=1.0.1 in c:\\users\\cor24836\\anaconda3\\lib\\site-packages (from seaborn) (1.4.1)\n",
      "Requirement already satisfied: pandas>=0.22.0 in c:\\users\\cor24836\\anaconda3\\lib\\site-packages (from seaborn) (1.0.1)\n",
      "Requirement already satisfied: cycler>=0.10 in c:\\users\\cor24836\\anaconda3\\lib\\site-packages (from matplotlib>=2.1.2->seaborn) (0.10.0)\n",
      "Requirement already satisfied: kiwisolver>=1.0.1 in c:\\users\\cor24836\\anaconda3\\lib\\site-packages (from matplotlib>=2.1.2->seaborn) (1.1.0)\n",
      "Requirement already satisfied: pyparsing!=2.0.4,!=2.1.2,!=2.1.6,>=2.0.1 in c:\\users\\cor24836\\anaconda3\\lib\\site-packages (from matplotlib>=2.1.2->seaborn) (2.4.6)\n",
      "Requirement already satisfied: python-dateutil>=2.1 in c:\\users\\cor24836\\anaconda3\\lib\\site-packages (from matplotlib>=2.1.2->seaborn) (2.8.1)\n",
      "Requirement already satisfied: pytz>=2017.2 in c:\\users\\cor24836\\anaconda3\\lib\\site-packages (from pandas>=0.22.0->seaborn) (2019.3)\n",
      "Requirement already satisfied: six in c:\\users\\cor24836\\anaconda3\\lib\\site-packages (from cycler>=0.10->matplotlib>=2.1.2->seaborn) (1.14.0)\n",
      "Requirement already satisfied: setuptools in c:\\users\\cor24836\\anaconda3\\lib\\site-packages (from kiwisolver>=1.0.1->matplotlib>=2.1.2->seaborn) (45.2.0.post20200210)\n",
      "Note: you may need to restart the kernel to use updated packages.\n"
     ]
    }
   ],
   "source": [
    "pip install seaborn"
   ]
  },
  {
   "cell_type": "code",
   "execution_count": 12,
   "metadata": {},
   "outputs": [
    {
     "name": "stdout",
     "output_type": "stream",
     "text": [
      "Requirement already satisfied: scikit-learn in c:\\users\\cor24836\\anaconda3\\lib\\site-packages (0.22.1)\n",
      "Requirement already satisfied: numpy>=1.11.0 in c:\\users\\cor24836\\anaconda3\\lib\\site-packages (from scikit-learn) (1.18.1)\n",
      "Requirement already satisfied: joblib>=0.11 in c:\\users\\cor24836\\anaconda3\\lib\\site-packages (from scikit-learn) (0.14.1)\n",
      "Requirement already satisfied: scipy>=0.17.0 in c:\\users\\cor24836\\anaconda3\\lib\\site-packages (from scikit-learn) (1.4.1)\n",
      "Note: you may need to restart the kernel to use updated packages.\n"
     ]
    }
   ],
   "source": [
    "pip install scikit-learn"
   ]
  },
  {
   "cell_type": "code",
   "execution_count": 63,
   "metadata": {},
   "outputs": [],
   "source": [
    "import pandas as pd\n",
    "import matplotlib.pyplot as plt\n",
    "import statistics as stats"
   ]
  },
  {
   "cell_type": "code",
   "execution_count": 11,
   "metadata": {},
   "outputs": [
    {
     "data": {
      "text/html": [
       "<div>\n",
       "<style scoped>\n",
       "    .dataframe tbody tr th:only-of-type {\n",
       "        vertical-align: middle;\n",
       "    }\n",
       "\n",
       "    .dataframe tbody tr th {\n",
       "        vertical-align: top;\n",
       "    }\n",
       "\n",
       "    .dataframe thead th {\n",
       "        text-align: right;\n",
       "    }\n",
       "</style>\n",
       "<table border=\"1\" class=\"dataframe\">\n",
       "  <thead>\n",
       "    <tr style=\"text-align: right;\">\n",
       "      <th></th>\n",
       "      <th>Q5</th>\n",
       "      <th>Q6</th>\n",
       "      <th>Q3</th>\n",
       "      <th>Q7</th>\n",
       "      <th>Q8</th>\n",
       "    </tr>\n",
       "  </thead>\n",
       "  <tbody>\n",
       "    <tr>\n",
       "      <th>0</th>\n",
       "      <td>AC964</td>\n",
       "      <td>1</td>\n",
       "      <td>4</td>\n",
       "      <td>male</td>\n",
       "      <td>yes</td>\n",
       "    </tr>\n",
       "    <tr>\n",
       "      <th>1</th>\n",
       "      <td>AC965</td>\n",
       "      <td>2</td>\n",
       "      <td>5</td>\n",
       "      <td>female</td>\n",
       "      <td>no</td>\n",
       "    </tr>\n",
       "    <tr>\n",
       "      <th>2</th>\n",
       "      <td>AC966</td>\n",
       "      <td>1</td>\n",
       "      <td>4</td>\n",
       "      <td>male</td>\n",
       "      <td>yes</td>\n",
       "    </tr>\n",
       "    <tr>\n",
       "      <th>3</th>\n",
       "      <td>AC967</td>\n",
       "      <td>1</td>\n",
       "      <td>3</td>\n",
       "      <td>male</td>\n",
       "      <td>maybe</td>\n",
       "    </tr>\n",
       "    <tr>\n",
       "      <th>4</th>\n",
       "      <td>AC968</td>\n",
       "      <td>1</td>\n",
       "      <td>4</td>\n",
       "      <td>male</td>\n",
       "      <td>yes</td>\n",
       "    </tr>\n",
       "    <tr>\n",
       "      <th>5</th>\n",
       "      <td>AC969</td>\n",
       "      <td>1</td>\n",
       "      <td>5</td>\n",
       "      <td>male</td>\n",
       "      <td>yes</td>\n",
       "    </tr>\n",
       "    <tr>\n",
       "      <th>6</th>\n",
       "      <td>AC970</td>\n",
       "      <td>2</td>\n",
       "      <td>4</td>\n",
       "      <td>female</td>\n",
       "      <td>no</td>\n",
       "    </tr>\n",
       "    <tr>\n",
       "      <th>7</th>\n",
       "      <td>AC971</td>\n",
       "      <td>2</td>\n",
       "      <td>3</td>\n",
       "      <td>female</td>\n",
       "      <td>no</td>\n",
       "    </tr>\n",
       "    <tr>\n",
       "      <th>8</th>\n",
       "      <td>AC972</td>\n",
       "      <td>3</td>\n",
       "      <td>2</td>\n",
       "      <td>other</td>\n",
       "      <td>already considering STEM</td>\n",
       "    </tr>\n",
       "  </tbody>\n",
       "</table>\n",
       "</div>"
      ],
      "text/plain": [
       "      Q5  Q6  Q3      Q7                        Q8\n",
       "0  AC964   1   4    male                       yes\n",
       "1  AC965   2   5  female                        no\n",
       "2  AC966   1   4    male                       yes\n",
       "3  AC967   1   3    male                     maybe\n",
       "4  AC968   1   4    male                       yes\n",
       "5  AC969   1   5    male                       yes\n",
       "6  AC970   2   4  female                        no\n",
       "7  AC971   2   3  female                        no\n",
       "8  AC972   3   2   other  already considering STEM"
      ]
     },
     "execution_count": 11,
     "metadata": {},
     "output_type": "execute_result"
    }
   ],
   "source": [
    "pd.read_csv(\"STEvIE/PPM_blahblah1.csv\")"
   ]
  },
  {
   "cell_type": "code",
   "execution_count": 51,
   "metadata": {},
   "outputs": [
    {
     "name": "stdout",
     "output_type": "stream",
     "text": [
      "       Q5  Q3  Q6             Q1\n",
      "0   EF964   3   3  PPM_blahblah3\n",
      "1   EF965   3   3  PPM_blahblah3\n",
      "2   EF966   3   1  PPM_blahblah3\n",
      "3   EF967   1   1  PPM_blahblah3\n",
      "4   EF968   4   1  PPM_blahblah3\n",
      "5   EF969   5   2  PPM_blahblah3\n",
      "6   BD964   1   2  PPM_blahblah2\n",
      "7   BD965   1   2  PPM_blahblah2\n",
      "8   BD966   5   2  PPM_blahblah2\n",
      "9   BD967   5   2  PPM_blahblah2\n",
      "10  BD968   5   3  PPM_blahblah2\n",
      "11  BD969   4   1  PPM_blahblah2\n",
      "12  BD970   5   2  PPM_blahblah2\n",
      "13  BD971   3   3  PPM_blahblah2\n",
      "14  BD972   4   1  PPM_blahblah2\n",
      "15  BD973   1   3  PPM_blahblah2\n",
      "16  BD974   2   1  PPM_blahblah2\n",
      "17  BD975   2   1  PPM_blahblah2\n",
      "18  BD976   4   1  PPM_blahblah2\n",
      "19  AC964   4   1  PPM_blahblah1\n",
      "20  AC965   5   2  PPM_blahblah1\n",
      "21  AC966   4   1  PPM_blahblah1\n",
      "22  AC967   3   1  PPM_blahblah1\n",
      "23  AC968   4   1  PPM_blahblah1\n",
      "24  AC969   5   1  PPM_blahblah1\n",
      "25  AC970   4   2  PPM_blahblah1\n",
      "26  AC971   3   2  PPM_blahblah1\n",
      "27  AC972   2   3  PPM_blahblah1\n"
     ]
    }
   ],
   "source": [
    "table = pd.read_excel(\"STEvIE/testing-STEvIE.xlsx\", usecols=\"A:D\")\n",
    "\n",
    "print(table)"
   ]
  },
  {
   "cell_type": "code",
   "execution_count": 52,
   "metadata": {},
   "outputs": [
    {
     "name": "stdout",
     "output_type": "stream",
     "text": [
      "28\n"
     ]
    }
   ],
   "source": [
    "print(len(table))  # Here we see that read_excel acts as a sort of dict"
   ]
  },
  {
   "cell_type": "code",
   "execution_count": 53,
   "metadata": {},
   "outputs": [
    {
     "name": "stdout",
     "output_type": "stream",
     "text": [
      "Q5            BD968\n",
      "Q3                5\n",
      "Q6                3\n",
      "Q1    PPM_blahblah2\n",
      "Name: 10, dtype: object\n"
     ]
    }
   ],
   "source": [
    "# Fetching only response 10\n",
    "print(table.iloc[10])"
   ]
  },
  {
   "cell_type": "code",
   "execution_count": 54,
   "metadata": {},
   "outputs": [
    {
     "name": "stdout",
     "output_type": "stream",
     "text": [
      "       Q5  Q3\n",
      "3   EF967   1\n",
      "6   BD964   1\n",
      "7   BD965   1\n",
      "15  BD973   1\n",
      "16  BD974   2\n",
      "17  BD975   2\n",
      "27  AC972   2\n"
     ]
    }
   ],
   "source": [
    "# To print just Q3, simply print(table[\"Q3\"]), as you would a dict\n",
    "# You can also find the participant ID of all who rated it lower than 3/5\n",
    "print(table.loc[table['Q3'] < 3, ['Q5', 'Q3']])"
   ]
  },
  {
   "cell_type": "code",
   "execution_count": 55,
   "metadata": {},
   "outputs": [
    {
     "name": "stdout",
     "output_type": "stream",
     "text": [
      "95\n",
      "3.5185185185185186\n"
     ]
    }
   ],
   "source": [
    "print(sum(table['Q3']))\n",
    "\n",
    "print(sum(table['Q3'])/27)"
   ]
  },
  {
   "cell_type": "code",
   "execution_count": 69,
   "metadata": {
    "scrolled": true
   },
   "outputs": [
    {
     "name": "stdout",
     "output_type": "stream",
     "text": [
      "    Q3     Q5\n",
      "6    1  BD964\n",
      "7    1  BD965\n",
      "8    5  BD966\n",
      "9    5  BD967\n",
      "10   5  BD968\n",
      "11   4  BD969\n",
      "12   5  BD970\n",
      "13   3  BD971\n",
      "14   4  BD972\n",
      "15   1  BD973\n",
      "16   2  BD974\n",
      "17   2  BD975\n",
      "18   4  BD976\n",
      "3.230769230769231\n",
      "3.23\n"
     ]
    }
   ],
   "source": [
    "XL2 = table.loc[table['Q1'] == 'PPM_blahblah2', ['Q3', 'Q5']]\n",
    "print(XL2)\n",
    "avg = stats.mean(XL2['Q3'])\n",
    "print(avg)\n",
    "avg = round(stats.mean(XL2['Q3']), 2)\n",
    "print(avg)"
   ]
  },
  {
   "cell_type": "code",
   "execution_count": 70,
   "metadata": {},
   "outputs": [
    {
     "data": {
      "text/plain": [
       "4"
      ]
     },
     "execution_count": 70,
     "metadata": {},
     "output_type": "execute_result"
    }
   ],
   "source": [
    "2+2"
   ]
  },
  {
   "cell_type": "code",
   "execution_count": null,
   "metadata": {},
   "outputs": [],
   "source": []
  }
 ],
 "metadata": {
  "kernelspec": {
   "display_name": "Python 3",
   "language": "python",
   "name": "python3"
  },
  "language_info": {
   "codemirror_mode": {
    "name": "ipython",
    "version": 3
   },
   "file_extension": ".py",
   "mimetype": "text/x-python",
   "name": "python",
   "nbconvert_exporter": "python",
   "pygments_lexer": "ipython3",
   "version": "3.7.6"
  }
 },
 "nbformat": 4,
 "nbformat_minor": 4
}
